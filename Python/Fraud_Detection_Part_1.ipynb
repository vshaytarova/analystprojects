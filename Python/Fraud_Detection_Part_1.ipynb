{
 "cells": [
  {
   "cell_type": "markdown",
   "metadata": {},
   "source": [
    "# Fraud Detection"
   ]
  },
  {
   "cell_type": "code",
   "execution_count": 1,
   "metadata": {
    "scrolled": true
   },
   "outputs": [
    {
     "name": "stdout",
     "output_type": "stream",
     "text": [
      "Collecting package metadata (current_repodata.json): done\n",
      "Solving environment: done\n",
      "\n",
      "# All requested packages already installed.\n",
      "\n"
     ]
    }
   ],
   "source": [
    "# Install a conda package in the current Jupyter kernel\n",
    "import sys\n",
    "!conda install --yes --prefix {sys.prefix} pandas"
   ]
  },
  {
   "cell_type": "code",
   "execution_count": 2,
   "metadata": {},
   "outputs": [],
   "source": [
    "# Import Pandas\n",
    "import pandas as pd\n",
    "# Import Matplotlib\n",
    "import matplotlib.pyplot as plt\n",
    "%matplotlib inline\n",
    "#Import Numpy\n",
    "import numpy as np"
   ]
  },
  {
   "cell_type": "code",
   "execution_count": 3,
   "metadata": {},
   "outputs": [
    {
     "data": {
      "text/html": [
       "<div>\n",
       "<style scoped>\n",
       "    .dataframe tbody tr th:only-of-type {\n",
       "        vertical-align: middle;\n",
       "    }\n",
       "\n",
       "    .dataframe tbody tr th {\n",
       "        vertical-align: top;\n",
       "    }\n",
       "\n",
       "    .dataframe thead th {\n",
       "        text-align: right;\n",
       "    }\n",
       "</style>\n",
       "<table border=\"1\" class=\"dataframe\">\n",
       "  <thead>\n",
       "    <tr style=\"text-align: right;\">\n",
       "      <th></th>\n",
       "      <th>City</th>\n",
       "      <th>Date</th>\n",
       "      <th>Card Type</th>\n",
       "      <th>Exp Type</th>\n",
       "      <th>Gender</th>\n",
       "      <th>Amount</th>\n",
       "    </tr>\n",
       "  </thead>\n",
       "  <tbody>\n",
       "    <tr>\n",
       "      <th>0</th>\n",
       "      <td>Delhi, India</td>\n",
       "      <td>2014-10-29</td>\n",
       "      <td>Gold</td>\n",
       "      <td>Bills</td>\n",
       "      <td>F</td>\n",
       "      <td>82475</td>\n",
       "    </tr>\n",
       "    <tr>\n",
       "      <th>1</th>\n",
       "      <td>Greater Mumbai, India</td>\n",
       "      <td>2014-08-22</td>\n",
       "      <td>Platinum</td>\n",
       "      <td>Bills</td>\n",
       "      <td>F</td>\n",
       "      <td>32555</td>\n",
       "    </tr>\n",
       "    <tr>\n",
       "      <th>2</th>\n",
       "      <td>Bengaluru, India</td>\n",
       "      <td>2014-08-27</td>\n",
       "      <td>Silver</td>\n",
       "      <td>Bills</td>\n",
       "      <td>F</td>\n",
       "      <td>101738</td>\n",
       "    </tr>\n",
       "    <tr>\n",
       "      <th>3</th>\n",
       "      <td>Greater Mumbai, India</td>\n",
       "      <td>2014-04-12</td>\n",
       "      <td>Signature</td>\n",
       "      <td>Bills</td>\n",
       "      <td>F</td>\n",
       "      <td>123424</td>\n",
       "    </tr>\n",
       "    <tr>\n",
       "      <th>4</th>\n",
       "      <td>Bengaluru, India</td>\n",
       "      <td>2015-05-05</td>\n",
       "      <td>Gold</td>\n",
       "      <td>Bills</td>\n",
       "      <td>F</td>\n",
       "      <td>171574</td>\n",
       "    </tr>\n",
       "  </tbody>\n",
       "</table>\n",
       "</div>"
      ],
      "text/plain": [
       "                    City       Date  Card Type Exp Type Gender  Amount\n",
       "0           Delhi, India 2014-10-29       Gold    Bills      F   82475\n",
       "1  Greater Mumbai, India 2014-08-22   Platinum    Bills      F   32555\n",
       "2       Bengaluru, India 2014-08-27     Silver    Bills      F  101738\n",
       "3  Greater Mumbai, India 2014-04-12  Signature    Bills      F  123424\n",
       "4       Bengaluru, India 2015-05-05       Gold    Bills      F  171574"
      ]
     },
     "execution_count": 3,
     "metadata": {},
     "output_type": "execute_result"
    }
   ],
   "source": [
    "# Read the file with transactions history\n",
    "data = pd.read_excel('/Users/vero/Documents/Programming for Big Data/Assignments/ASSIGNMENT-4+5/CC-3Y-Transactions.xlsx', sheet_name= 'Credit-Card-Transactions')\n",
    "data.head(5)"
   ]
  },
  {
   "cell_type": "code",
   "execution_count": 4,
   "metadata": {},
   "outputs": [
    {
     "data": {
      "text/plain": [
       "(26052, 6)"
      ]
     },
     "execution_count": 4,
     "metadata": {},
     "output_type": "execute_result"
    }
   ],
   "source": [
    "# Check the data shape\n",
    "data.shape"
   ]
  },
  {
   "cell_type": "code",
   "execution_count": 5,
   "metadata": {},
   "outputs": [
    {
     "name": "stdout",
     "output_type": "stream",
     "text": [
      "<class 'pandas.core.frame.DataFrame'>\n",
      "RangeIndex: 26052 entries, 0 to 26051\n",
      "Data columns (total 6 columns):\n",
      " #   Column     Non-Null Count  Dtype         \n",
      "---  ------     --------------  -----         \n",
      " 0   City       26052 non-null  object        \n",
      " 1   Date       26052 non-null  datetime64[ns]\n",
      " 2   Card Type  26052 non-null  object        \n",
      " 3   Exp Type   26052 non-null  object        \n",
      " 4   Gender     26052 non-null  object        \n",
      " 5   Amount     26052 non-null  int64         \n",
      "dtypes: datetime64[ns](1), int64(1), object(4)\n",
      "memory usage: 1.2+ MB\n"
     ]
    }
   ],
   "source": [
    "# Check the data info\n",
    "data.info()"
   ]
  },
  {
   "cell_type": "code",
   "execution_count": 6,
   "metadata": {},
   "outputs": [
    {
     "data": {
      "text/html": [
       "<div>\n",
       "<style scoped>\n",
       "    .dataframe tbody tr th:only-of-type {\n",
       "        vertical-align: middle;\n",
       "    }\n",
       "\n",
       "    .dataframe tbody tr th {\n",
       "        vertical-align: top;\n",
       "    }\n",
       "\n",
       "    .dataframe thead th {\n",
       "        text-align: right;\n",
       "    }\n",
       "</style>\n",
       "<table border=\"1\" class=\"dataframe\">\n",
       "  <thead>\n",
       "    <tr style=\"text-align: right;\">\n",
       "      <th>Variable</th>\n",
       "      <th>Type</th>\n",
       "    </tr>\n",
       "  </thead>\n",
       "  <tbody>\n",
       "    <tr>\n",
       "      <th>City</th>\n",
       "      <td>object</td>\n",
       "    </tr>\n",
       "    <tr>\n",
       "      <th>Date</th>\n",
       "      <td>datetime64[ns]</td>\n",
       "    </tr>\n",
       "    <tr>\n",
       "      <th>Card Type</th>\n",
       "      <td>object</td>\n",
       "    </tr>\n",
       "    <tr>\n",
       "      <th>Exp Type</th>\n",
       "      <td>object</td>\n",
       "    </tr>\n",
       "    <tr>\n",
       "      <th>Gender</th>\n",
       "      <td>object</td>\n",
       "    </tr>\n",
       "    <tr>\n",
       "      <th>Amount</th>\n",
       "      <td>int64</td>\n",
       "    </tr>\n",
       "  </tbody>\n",
       "</table>\n",
       "</div>"
      ],
      "text/plain": [
       "Variable             Type\n",
       "City               object\n",
       "Date       datetime64[ns]\n",
       "Card Type          object\n",
       "Exp Type           object\n",
       "Gender             object\n",
       "Amount              int64"
      ]
     },
     "execution_count": 6,
     "metadata": {},
     "output_type": "execute_result"
    }
   ],
   "source": [
    "# Check of data type\n",
    "type_of_data = pd.DataFrame(data.dtypes, columns = ['Type'])\n",
    "type_of_data.columns.name = 'Variable'\n",
    "type_of_data"
   ]
  },
  {
   "cell_type": "code",
   "execution_count": 7,
   "metadata": {},
   "outputs": [
    {
     "data": {
      "text/html": [
       "<div>\n",
       "<style scoped>\n",
       "    .dataframe tbody tr th:only-of-type {\n",
       "        vertical-align: middle;\n",
       "    }\n",
       "\n",
       "    .dataframe tbody tr th {\n",
       "        vertical-align: top;\n",
       "    }\n",
       "\n",
       "    .dataframe thead th {\n",
       "        text-align: right;\n",
       "    }\n",
       "</style>\n",
       "<table border=\"1\" class=\"dataframe\">\n",
       "  <thead>\n",
       "    <tr style=\"text-align: right;\">\n",
       "      <th></th>\n",
       "      <th>Amount</th>\n",
       "    </tr>\n",
       "  </thead>\n",
       "  <tbody>\n",
       "    <tr>\n",
       "      <th>count</th>\n",
       "      <td>26052.000000</td>\n",
       "    </tr>\n",
       "    <tr>\n",
       "      <th>mean</th>\n",
       "      <td>156411.537425</td>\n",
       "    </tr>\n",
       "    <tr>\n",
       "      <th>std</th>\n",
       "      <td>103063.254287</td>\n",
       "    </tr>\n",
       "    <tr>\n",
       "      <th>min</th>\n",
       "      <td>1005.000000</td>\n",
       "    </tr>\n",
       "    <tr>\n",
       "      <th>25%</th>\n",
       "      <td>77120.250000</td>\n",
       "    </tr>\n",
       "    <tr>\n",
       "      <th>50%</th>\n",
       "      <td>153106.500000</td>\n",
       "    </tr>\n",
       "    <tr>\n",
       "      <th>75%</th>\n",
       "      <td>228050.000000</td>\n",
       "    </tr>\n",
       "    <tr>\n",
       "      <th>max</th>\n",
       "      <td>998077.000000</td>\n",
       "    </tr>\n",
       "  </tbody>\n",
       "</table>\n",
       "</div>"
      ],
      "text/plain": [
       "              Amount\n",
       "count   26052.000000\n",
       "mean   156411.537425\n",
       "std    103063.254287\n",
       "min      1005.000000\n",
       "25%     77120.250000\n",
       "50%    153106.500000\n",
       "75%    228050.000000\n",
       "max    998077.000000"
      ]
     },
     "execution_count": 7,
     "metadata": {},
     "output_type": "execute_result"
    }
   ],
   "source": [
    "# Check the data for \"Amount\"\n",
    "data.describe()"
   ]
  },
  {
   "cell_type": "code",
   "execution_count": 8,
   "metadata": {},
   "outputs": [
    {
     "data": {
      "text/html": [
       "<div>\n",
       "<style scoped>\n",
       "    .dataframe tbody tr th:only-of-type {\n",
       "        vertical-align: middle;\n",
       "    }\n",
       "\n",
       "    .dataframe tbody tr th {\n",
       "        vertical-align: top;\n",
       "    }\n",
       "\n",
       "    .dataframe thead th {\n",
       "        text-align: right;\n",
       "    }\n",
       "</style>\n",
       "<table border=\"1\" class=\"dataframe\">\n",
       "  <thead>\n",
       "    <tr style=\"text-align: right;\">\n",
       "      <th></th>\n",
       "      <th>Year</th>\n",
       "      <th>City</th>\n",
       "      <th>Amount</th>\n",
       "      <th>Year</th>\n",
       "      <th>City</th>\n",
       "      <th>Amount</th>\n",
       "      <th>Year</th>\n",
       "      <th>City</th>\n",
       "      <th>Amount</th>\n",
       "    </tr>\n",
       "  </thead>\n",
       "  <tbody>\n",
       "    <tr>\n",
       "      <th>1</th>\n",
       "      <td>2013</td>\n",
       "      <td>Delhi, India</td>\n",
       "      <td>996754</td>\n",
       "      <td>2014</td>\n",
       "      <td>Greater Mumbai, India</td>\n",
       "      <td>998077</td>\n",
       "      <td>2015</td>\n",
       "      <td>Ahmedabad, India</td>\n",
       "      <td>996291</td>\n",
       "    </tr>\n",
       "    <tr>\n",
       "      <th>2</th>\n",
       "      <td>2013</td>\n",
       "      <td>Greater Mumbai, India</td>\n",
       "      <td>990700</td>\n",
       "      <td>2014</td>\n",
       "      <td>Ahmedabad, India</td>\n",
       "      <td>995634</td>\n",
       "      <td>2015</td>\n",
       "      <td>Bengaluru, India</td>\n",
       "      <td>987935</td>\n",
       "    </tr>\n",
       "    <tr>\n",
       "      <th>3</th>\n",
       "      <td>2013</td>\n",
       "      <td>Bengaluru, India</td>\n",
       "      <td>973026</td>\n",
       "      <td>2014</td>\n",
       "      <td>Delhi, India</td>\n",
       "      <td>994537</td>\n",
       "      <td>2015</td>\n",
       "      <td>Greater Mumbai, India</td>\n",
       "      <td>986379</td>\n",
       "    </tr>\n",
       "    <tr>\n",
       "      <th>4</th>\n",
       "      <td>2013</td>\n",
       "      <td>Ahmedabad, India</td>\n",
       "      <td>892016</td>\n",
       "      <td>2014</td>\n",
       "      <td>Bengaluru, India</td>\n",
       "      <td>984466</td>\n",
       "      <td>2015</td>\n",
       "      <td>Delhi, India</td>\n",
       "      <td>981404</td>\n",
       "    </tr>\n",
       "    <tr>\n",
       "      <th>5</th>\n",
       "      <td>2013</td>\n",
       "      <td>Sonepur, India</td>\n",
       "      <td>299905</td>\n",
       "      <td>2014</td>\n",
       "      <td>Raghogarh-Vijaypur, India</td>\n",
       "      <td>299980</td>\n",
       "      <td>2015</td>\n",
       "      <td>Dalli-Rajhara, India</td>\n",
       "      <td>299906</td>\n",
       "    </tr>\n",
       "  </tbody>\n",
       "</table>\n",
       "</div>"
      ],
      "text/plain": [
       "   Year                   City  Amount  Year                       City  \\\n",
       "1  2013           Delhi, India  996754  2014      Greater Mumbai, India   \n",
       "2  2013  Greater Mumbai, India  990700  2014           Ahmedabad, India   \n",
       "3  2013       Bengaluru, India  973026  2014               Delhi, India   \n",
       "4  2013       Ahmedabad, India  892016  2014           Bengaluru, India   \n",
       "5  2013         Sonepur, India  299905  2014  Raghogarh-Vijaypur, India   \n",
       "\n",
       "   Amount  Year                   City  Amount  \n",
       "1  998077  2015       Ahmedabad, India  996291  \n",
       "2  995634  2015       Bengaluru, India  987935  \n",
       "3  994537  2015  Greater Mumbai, India  986379  \n",
       "4  984466  2015           Delhi, India  981404  \n",
       "5  299980  2015   Dalli-Rajhara, India  299906  "
      ]
     },
     "execution_count": 8,
     "metadata": {},
     "output_type": "execute_result"
    }
   ],
   "source": [
    "# Report 1. TOP-5-Cities-Expenses - table\n",
    "# Version 1 for highest daily expenses \n",
    "\n",
    "data['Year']=data['Date'].dt.year\n",
    "Report1 = pd.DataFrame(data[['Year','City','Amount']])\n",
    "\n",
    "cities_2013 = Report1[data.Year==2013].sort_values('Amount').drop_duplicates('City', keep='last')\n",
    "cities_2013 = cities_2013.nlargest(5,'Amount', keep='first').set_index([pd.Index([1, 2, 3, 4, 5])])\n",
    "cities_2014 = Report1[data.Year==2014].sort_values('Amount').drop_duplicates('City', keep='last')\n",
    "cities_2014 = cities_2014.nlargest(5,'Amount', keep='first').set_index([pd.Index([1, 2, 3, 4, 5])])\n",
    "cities_2015 = Report1[data.Year==2015].sort_values('Amount').drop_duplicates('City', keep='last')\n",
    "cities_2015 = cities_2015.nlargest(5,'Amount', keep='first').set_index([pd.Index([1, 2, 3, 4, 5])])\n",
    "Report1 = pd.concat([cities_2013, cities_2014, cities_2015], axis=1)\n",
    "Report1\n"
   ]
  },
  {
   "cell_type": "code",
   "execution_count": 9,
   "metadata": {},
   "outputs": [
    {
     "data": {
      "text/plain": [
       "Text(0, 0.5, 'Amount')"
      ]
     },
     "execution_count": 9,
     "metadata": {},
     "output_type": "execute_result"
    },
    {
     "data": {
      "image/png": "[encoded data removed]",
      "text/plain": [
       "<Figure size 1080x720 with 3 Axes>"
      ]
     },
     "metadata": {
      "needs_background": "light"
     },
     "output_type": "display_data"
    }
   ],
   "source": [
    "# Report 1. TOP-5-Cities-Expenses - graph\n",
    "# Version 1 for highest daily expenses \n",
    "fig, axes = plt.subplots(3, 1, figsize=(15,10))\n",
    "\n",
    "axes[0].grid(True)\n",
    "axes[0].bar(cities_2013['City'],cities_2013['Amount'], color= 'purple')\n",
    "axes[0].set_title(\"TOP-5-Cities-Expenses in 2013\")\n",
    "axes[0].set_ylabel('Amount')\n",
    "\n",
    "axes[1].grid(True)\n",
    "axes[1].bar(cities_2014['City'],cities_2014['Amount'], color= 'green')\n",
    "axes[1].set_title(\"TOP-5-Cities-Expenses in 2014\")\n",
    "axes[1].set_ylabel('Amount')\n",
    "\n",
    "axes[2].grid(True)\n",
    "axes[2].bar(cities_2015['City'],cities_2015['Amount'], color= 'blue')\n",
    "axes[2].set_title(\"TOP-5-Cities-Expenses in 2015\")\n",
    "axes[2].set_ylabel('Amount')"
   ]
  },
  {
   "cell_type": "code",
   "execution_count": 10,
   "metadata": {},
   "outputs": [
    {
     "data": {
      "text/html": [
       "<div>\n",
       "<style scoped>\n",
       "    .dataframe tbody tr th:only-of-type {\n",
       "        vertical-align: middle;\n",
       "    }\n",
       "\n",
       "    .dataframe tbody tr th {\n",
       "        vertical-align: top;\n",
       "    }\n",
       "\n",
       "    .dataframe thead th {\n",
       "        text-align: right;\n",
       "    }\n",
       "</style>\n",
       "<table border=\"1\" class=\"dataframe\">\n",
       "  <thead>\n",
       "    <tr style=\"text-align: right;\">\n",
       "      <th></th>\n",
       "      <th>Year</th>\n",
       "      <th>City</th>\n",
       "      <th>Amount</th>\n",
       "      <th>Year</th>\n",
       "      <th>City</th>\n",
       "      <th>Amount</th>\n",
       "      <th>Year</th>\n",
       "      <th>City</th>\n",
       "      <th>Amount</th>\n",
       "    </tr>\n",
       "  </thead>\n",
       "  <tbody>\n",
       "    <tr>\n",
       "      <th>1</th>\n",
       "      <td>2013</td>\n",
       "      <td>Bengaluru, India</td>\n",
       "      <td>84999287</td>\n",
       "      <td>2014</td>\n",
       "      <td>Bengaluru, India</td>\n",
       "      <td>351482095</td>\n",
       "      <td>2015</td>\n",
       "      <td>Delhi, India</td>\n",
       "      <td>145211065</td>\n",
       "    </tr>\n",
       "    <tr>\n",
       "      <th>2</th>\n",
       "      <td>2013</td>\n",
       "      <td>Greater Mumbai, India</td>\n",
       "      <td>84735652</td>\n",
       "      <td>2014</td>\n",
       "      <td>Greater Mumbai, India</td>\n",
       "      <td>349709415</td>\n",
       "      <td>2015</td>\n",
       "      <td>Greater Mumbai, India</td>\n",
       "      <td>142306409</td>\n",
       "    </tr>\n",
       "    <tr>\n",
       "      <th>3</th>\n",
       "      <td>2013</td>\n",
       "      <td>Ahmedabad, India</td>\n",
       "      <td>83291837</td>\n",
       "      <td>2014</td>\n",
       "      <td>Ahmedabad, India</td>\n",
       "      <td>348289187</td>\n",
       "      <td>2015</td>\n",
       "      <td>Ahmedabad, India</td>\n",
       "      <td>136213286</td>\n",
       "    </tr>\n",
       "    <tr>\n",
       "      <th>4</th>\n",
       "      <td>2013</td>\n",
       "      <td>Delhi, India</td>\n",
       "      <td>82126961</td>\n",
       "      <td>2014</td>\n",
       "      <td>Delhi, India</td>\n",
       "      <td>329591186</td>\n",
       "      <td>2015</td>\n",
       "      <td>Bengaluru, India</td>\n",
       "      <td>135845357</td>\n",
       "    </tr>\n",
       "    <tr>\n",
       "      <th>5</th>\n",
       "      <td>2013</td>\n",
       "      <td>Kanpur, India</td>\n",
       "      <td>19640338</td>\n",
       "      <td>2014</td>\n",
       "      <td>Hyderabad, India</td>\n",
       "      <td>71066005</td>\n",
       "      <td>2015</td>\n",
       "      <td>Kolkata, India</td>\n",
       "      <td>30918731</td>\n",
       "    </tr>\n",
       "  </tbody>\n",
       "</table>\n",
       "</div>"
      ],
      "text/plain": [
       "   Year                   City    Amount  Year                   City  \\\n",
       "1  2013       Bengaluru, India  84999287  2014       Bengaluru, India   \n",
       "2  2013  Greater Mumbai, India  84735652  2014  Greater Mumbai, India   \n",
       "3  2013       Ahmedabad, India  83291837  2014       Ahmedabad, India   \n",
       "4  2013           Delhi, India  82126961  2014           Delhi, India   \n",
       "5  2013          Kanpur, India  19640338  2014       Hyderabad, India   \n",
       "\n",
       "      Amount  Year                   City     Amount  \n",
       "1  351482095  2015           Delhi, India  145211065  \n",
       "2  349709415  2015  Greater Mumbai, India  142306409  \n",
       "3  348289187  2015       Ahmedabad, India  136213286  \n",
       "4  329591186  2015       Bengaluru, India  135845357  \n",
       "5   71066005  2015         Kolkata, India   30918731  "
      ]
     },
     "execution_count": 10,
     "metadata": {},
     "output_type": "execute_result"
    }
   ],
   "source": [
    "# Report 1. TOP-5-Cities-Expenses - table\n",
    "# Version 2 for total expenses per year\n",
    "\n",
    "Report1 = pd.DataFrame(data[['Year','City','Amount']])\n",
    "cities_2013 = Report1[data.Year==2013].groupby(['Year', pd.Grouper(key='City')]).agg({'Amount':sum})\n",
    "cities_2013 = cities_2013.nlargest(5,'Amount').reset_index(level=['Year','City']).set_index([pd.Index([1, 2, 3, 4, 5])])\n",
    "\n",
    "cities_2014 = Report1[data.Year==2014].groupby(['Year', pd.Grouper(key='City')]).agg({'Amount':sum})\n",
    "cities_2014 = cities_2014.nlargest(5,'Amount').reset_index(level=['Year','City']).set_index([pd.Index([1, 2, 3, 4, 5])])\n",
    "\n",
    "cities_2015 = Report1[data.Year==2015].groupby(['Year', pd.Grouper(key='City')]).agg({'Amount':sum})\n",
    "cities_2015 = cities_2015.nlargest(5,'Amount').reset_index(level=['Year','City']).set_index([pd.Index([1, 2, 3, 4, 5])])\n",
    "\n",
    "Report1 = pd.concat([cities_2013, cities_2014, cities_2015], axis=1)\n",
    "Report1"
   ]
  },
  {
   "cell_type": "code",
   "execution_count": 11,
   "metadata": {},
   "outputs": [
    {
     "data": {
      "text/plain": [
       "Text(0, 0.5, 'Amount')"
      ]
     },
     "execution_count": 11,
     "metadata": {},
     "output_type": "execute_result"
    },
    {
     "data": {
      "image/png": "[encoded data removed]",
      "text/plain": [
       "<Figure size 1080x720 with 3 Axes>"
      ]
     },
     "metadata": {
      "needs_background": "light"
     },
     "output_type": "display_data"
    }
   ],
   "source": [
    "# Report 1. TOP-5-Cities-Expenses - graph\n",
    "# Version 2 for total expenses per year\n",
    "fig, axes = plt.subplots(3, 1, figsize=(15,10))\n",
    "\n",
    "axes[0].grid(True)\n",
    "axes[0].bar(cities_2013['City'],cities_2013['Amount'], color= 'purple')\n",
    "axes[0].set_title(\"TOP-5-Cities-Expenses in 2013\")\n",
    "axes[0].set_ylabel('Amount')\n",
    "\n",
    "axes[1].grid(True)\n",
    "axes[1].bar(cities_2014['City'],cities_2014['Amount'], color= 'green')\n",
    "axes[1].set_title(\"TOP-5-Cities-Expenses in 2014\")\n",
    "axes[1].set_ylabel('Amount')\n",
    "\n",
    "axes[2].grid(True)\n",
    "axes[2].bar(cities_2015['City'],cities_2015['Amount'], color= 'blue')\n",
    "axes[2].set_title(\"TOP-5-Cities-Expenses in 2015\")\n",
    "axes[2].set_ylabel('Amount')"
   ]
  },
  {
   "cell_type": "code",
   "execution_count": 12,
   "metadata": {},
   "outputs": [
    {
     "data": {
      "text/html": [
       "<div>\n",
       "<style scoped>\n",
       "    .dataframe tbody tr th:only-of-type {\n",
       "        vertical-align: middle;\n",
       "    }\n",
       "\n",
       "    .dataframe tbody tr th {\n",
       "        vertical-align: top;\n",
       "    }\n",
       "\n",
       "    .dataframe thead th {\n",
       "        text-align: right;\n",
       "    }\n",
       "</style>\n",
       "<table border=\"1\" class=\"dataframe\">\n",
       "  <thead>\n",
       "    <tr style=\"text-align: right;\">\n",
       "      <th></th>\n",
       "      <th></th>\n",
       "      <th></th>\n",
       "      <th>Amount</th>\n",
       "    </tr>\n",
       "    <tr>\n",
       "      <th>Year</th>\n",
       "      <th>Quarter</th>\n",
       "      <th>Gender</th>\n",
       "      <th></th>\n",
       "    </tr>\n",
       "  </thead>\n",
       "  <tbody>\n",
       "    <tr>\n",
       "      <th rowspan=\"2\" valign=\"top\">2013</th>\n",
       "      <th rowspan=\"2\" valign=\"top\">4</th>\n",
       "      <th>F</th>\n",
       "      <td>333421908</td>\n",
       "    </tr>\n",
       "    <tr>\n",
       "      <th>M</th>\n",
       "      <td>280221976</td>\n",
       "    </tr>\n",
       "    <tr>\n",
       "      <th rowspan=\"8\" valign=\"top\">2014</th>\n",
       "      <th rowspan=\"2\" valign=\"top\">1</th>\n",
       "      <th>F</th>\n",
       "      <td>318768288</td>\n",
       "    </tr>\n",
       "    <tr>\n",
       "      <th>M</th>\n",
       "      <td>281336181</td>\n",
       "    </tr>\n",
       "    <tr>\n",
       "      <th rowspan=\"2\" valign=\"top\">2</th>\n",
       "      <th>F</th>\n",
       "      <td>331421060</td>\n",
       "    </tr>\n",
       "    <tr>\n",
       "      <th>M</th>\n",
       "      <td>269947023</td>\n",
       "    </tr>\n",
       "    <tr>\n",
       "      <th rowspan=\"2\" valign=\"top\">3</th>\n",
       "      <th>F</th>\n",
       "      <td>335382914</td>\n",
       "    </tr>\n",
       "    <tr>\n",
       "      <th>M</th>\n",
       "      <td>290613061</td>\n",
       "    </tr>\n",
       "    <tr>\n",
       "      <th rowspan=\"2\" valign=\"top\">4</th>\n",
       "      <th>F</th>\n",
       "      <td>334689993</td>\n",
       "    </tr>\n",
       "    <tr>\n",
       "      <th>M</th>\n",
       "      <td>292555513</td>\n",
       "    </tr>\n",
       "    <tr>\n",
       "      <th rowspan=\"4\" valign=\"top\">2015</th>\n",
       "      <th rowspan=\"2\" valign=\"top\">1</th>\n",
       "      <th>F</th>\n",
       "      <td>344993188</td>\n",
       "    </tr>\n",
       "    <tr>\n",
       "      <th>M</th>\n",
       "      <td>279678969</td>\n",
       "    </tr>\n",
       "    <tr>\n",
       "      <th rowspan=\"2\" valign=\"top\">2</th>\n",
       "      <th>F</th>\n",
       "      <td>206633679</td>\n",
       "    </tr>\n",
       "    <tr>\n",
       "      <th>M</th>\n",
       "      <td>175169620</td>\n",
       "    </tr>\n",
       "  </tbody>\n",
       "</table>\n",
       "</div>"
      ],
      "text/plain": [
       "                        Amount\n",
       "Year Quarter Gender           \n",
       "2013 4       F       333421908\n",
       "             M       280221976\n",
       "2014 1       F       318768288\n",
       "             M       281336181\n",
       "     2       F       331421060\n",
       "             M       269947023\n",
       "     3       F       335382914\n",
       "             M       290613061\n",
       "     4       F       334689993\n",
       "             M       292555513\n",
       "2015 1       F       344993188\n",
       "             M       279678969\n",
       "     2       F       206633679\n",
       "             M       175169620"
      ]
     },
     "execution_count": 12,
     "metadata": {},
     "output_type": "execute_result"
    }
   ],
   "source": [
    "# Report 2. Gender-Expenses-Analysis - table\n",
    "data['Quarter']=data['Date'].dt.quarter\n",
    "Report2 = pd.DataFrame(data[['Year','Gender','Quarter','Amount']])\n",
    "Report2 =Report2.groupby(['Year','Quarter','Gender']).agg({'Amount':sum})\n",
    "Report2"
   ]
  },
  {
   "cell_type": "code",
   "execution_count": 13,
   "metadata": {},
   "outputs": [
    {
     "data": {
      "text/plain": [
       "<matplotlib.legend.Legend at 0x7f809b2c00a0>"
      ]
     },
     "execution_count": 13,
     "metadata": {},
     "output_type": "execute_result"
    },
    {
     "data": {
      "image/png": "[encoded data removed]",
      "text/plain": [
       "<Figure size 2160x360 with 3 Axes>"
      ]
     },
     "metadata": {
      "needs_background": "light"
     },
     "output_type": "display_data"
    }
   ],
   "source": [
    "# Report 2. Gender-Expenses-Analysis - graph\n",
    "fig, axes = plt.subplots(1, 3, figsize=(30,5))\n",
    "\n",
    "#Set up the bar chart for 2013 data\n",
    "graph_2013 = pd.DataFrame(data[['Year','Gender','Quarter','Amount']])\n",
    "graph_2013 =graph_2013[data.Year==2013].groupby(['Year','Quarter','Gender']).agg({'Amount':sum}).reset_index(level=['Year','Quarter','Gender'])\n",
    "labels2013 = ['Q4']\n",
    "M2013 = graph_2013.loc[1::2,'Amount']\n",
    "F2013 = graph_2013.loc[0::2,'Amount']\n",
    "x2013 = np.arange(len(labels2013))\n",
    "width = 0.1\n",
    "\n",
    "axes[0].bar(x2013 - width/2, M2013, width, label='Men', color= 'skyblue')\n",
    "axes[0].bar(x2013 + width/2, F2013, width, label='Women', color= 'pink')\n",
    "\n",
    "axes[0].set_ylabel('Amount')\n",
    "axes[0].set_title('Gender Expenses Analysis in 2013')\n",
    "axes[0].set_ylim(0,400000000)\n",
    "axes[0].set_xticks(x2013)\n",
    "axes[0].set_xticklabels(labels2013)\n",
    "axes[0].legend(loc = 'upper left')\n",
    "\n",
    "#Set up the bar chart for 2014 data\n",
    "graph_2014 = pd.DataFrame(data[['Year','Gender','Quarter','Amount']])\n",
    "graph_2014 =graph_2014[data.Year==2014].groupby(['Year','Quarter','Gender']).agg({'Amount':sum}).reset_index(level=['Year','Quarter','Gender'])\n",
    "labels2014 = ['Q1','Q2','Q3','Q4']\n",
    "M2014 = graph_2014.loc[1::2,'Amount']\n",
    "F2014 = graph_2014.loc[0::2,'Amount']\n",
    "x2014 = np.arange(len(labels2014))\n",
    "width = 0.4\n",
    "\n",
    "axes[1].bar(x2014 - width/2, M2014, width, label='Men', color= 'skyblue')\n",
    "axes[1].bar(x2014 + width/2, F2014, width, label='Women', color= 'pink')\n",
    "\n",
    "axes[1].set_ylabel('Amount')\n",
    "axes[1].set_title('Gender Expenses Analysis in 2014')\n",
    "axes[1].set_ylim(0,400000000)\n",
    "axes[1].set_xticks(x2014)\n",
    "axes[1].set_xticklabels(labels2014)\n",
    "axes[1].legend(loc = 'upper left')\n",
    "\n",
    "#Set up the bar chart for 2015 data\n",
    "graph_2015 = pd.DataFrame(data[['Year','Gender','Quarter','Amount']])\n",
    "graph_2015 =graph_2015[data.Year==2015].groupby(['Year','Quarter','Gender']).agg({'Amount':sum}).reset_index(level=['Year','Quarter','Gender'])\n",
    "labels2015 = ['Q1','Q2']\n",
    "M2015 = graph_2015.loc[1::2,'Amount']\n",
    "F2015 = graph_2015.loc[0::2,'Amount']\n",
    "x2015 = np.arange(len(labels2015))\n",
    "width = 0.4\n",
    "\n",
    "axes[2].bar(x2015 - width/2, M2015, width, label='Men', color= 'skyblue')\n",
    "axes[2].bar(x2015 + width/2, F2015, width, label='Women', color= 'pink')\n",
    "\n",
    "axes[2].set_ylabel('Amount')\n",
    "axes[2].set_title('Gender Expenses Analysis in 2015')\n",
    "axes[2].set_ylim(0,400000000)\n",
    "axes[2].set_xticks(x2015)\n",
    "axes[2].set_xticklabels(labels2015)\n",
    "axes[2].legend(loc = 'upper left')\n"
   ]
  },
  {
   "cell_type": "code",
   "execution_count": 14,
   "metadata": {},
   "outputs": [
    {
     "data": {
      "text/html": [
       "<div>\n",
       "<style scoped>\n",
       "    .dataframe tbody tr th:only-of-type {\n",
       "        vertical-align: middle;\n",
       "    }\n",
       "\n",
       "    .dataframe tbody tr th {\n",
       "        vertical-align: top;\n",
       "    }\n",
       "\n",
       "    .dataframe thead th {\n",
       "        text-align: right;\n",
       "    }\n",
       "</style>\n",
       "<table border=\"1\" class=\"dataframe\">\n",
       "  <thead>\n",
       "    <tr style=\"text-align: right;\">\n",
       "      <th></th>\n",
       "      <th>Year</th>\n",
       "      <th>Exp Type</th>\n",
       "      <th>Amount</th>\n",
       "      <th>Year</th>\n",
       "      <th>Exp Type</th>\n",
       "      <th>Amount</th>\n",
       "      <th>Year</th>\n",
       "      <th>Exp Type</th>\n",
       "      <th>Amount</th>\n",
       "    </tr>\n",
       "  </thead>\n",
       "  <tbody>\n",
       "    <tr>\n",
       "      <th>3</th>\n",
       "      <td>2013</td>\n",
       "      <td>Fuel</td>\n",
       "      <td>113938738</td>\n",
       "      <td>2014</td>\n",
       "      <td>Fuel</td>\n",
       "      <td>481697184</td>\n",
       "      <td>2015</td>\n",
       "      <td>Fuel</td>\n",
       "      <td>193499899</td>\n",
       "    </tr>\n",
       "    <tr>\n",
       "      <th>2</th>\n",
       "      <td>2013</td>\n",
       "      <td>Food</td>\n",
       "      <td>123284967</td>\n",
       "      <td>2014</td>\n",
       "      <td>Food</td>\n",
       "      <td>491383057</td>\n",
       "      <td>2015</td>\n",
       "      <td>Food</td>\n",
       "      <td>210055985</td>\n",
       "    </tr>\n",
       "    <tr>\n",
       "      <th>1</th>\n",
       "      <td>2013</td>\n",
       "      <td>Bills</td>\n",
       "      <td>136165014</td>\n",
       "      <td>2014</td>\n",
       "      <td>Bills</td>\n",
       "      <td>543741413</td>\n",
       "      <td>2015</td>\n",
       "      <td>Bills</td>\n",
       "      <td>227166046</td>\n",
       "    </tr>\n",
       "  </tbody>\n",
       "</table>\n",
       "</div>"
      ],
      "text/plain": [
       "   Year Exp Type     Amount  Year Exp Type     Amount  Year Exp Type  \\\n",
       "3  2013     Fuel  113938738  2014     Fuel  481697184  2015     Fuel   \n",
       "2  2013     Food  123284967  2014     Food  491383057  2015     Food   \n",
       "1  2013    Bills  136165014  2014    Bills  543741413  2015    Bills   \n",
       "\n",
       "      Amount  \n",
       "3  193499899  \n",
       "2  210055985  \n",
       "1  227166046  "
      ]
     },
     "execution_count": 14,
     "metadata": {},
     "output_type": "execute_result"
    }
   ],
   "source": [
    "# Report 3. TOP3-Expenses-Analysis - table\n",
    "Report3 = pd.DataFrame(data[['Year','Exp Type','Amount']])\n",
    "exptype_2013 = Report3[data.Year==2013].groupby(['Year', pd.Grouper(key='Exp Type')]).agg({'Amount':sum})\n",
    "exptype_2013 = exptype_2013.nlargest(3,'Amount').reset_index(level=['Year','Exp Type']).set_index([pd.Index([1, 2, 3])])\n",
    "exptype_2013 = exptype_2013.sort_values('Amount')\n",
    "exptype_2014 = Report3[data.Year==2014].groupby(['Year', pd.Grouper(key='Exp Type')]).agg({'Amount':sum})\n",
    "exptype_2014 = exptype_2014.nlargest(3,'Amount').reset_index(level=['Year','Exp Type']).set_index([pd.Index([1, 2, 3])])\n",
    "exptype_2014 = exptype_2014.sort_values('Amount')\n",
    "exptype_2015 = Report3[data.Year==2015].groupby(['Year', pd.Grouper(key='Exp Type')]).agg({'Amount':sum})\n",
    "exptype_2015 = exptype_2015.nlargest(3,'Amount').reset_index(level=['Year','Exp Type']).set_index([pd.Index([1, 2, 3])])\n",
    "exptype_2015 = exptype_2015.sort_values('Amount')\n",
    "Report1 = pd.concat([exptype_2013, exptype_2014, exptype_2015], axis=1)\n",
    "Report1"
   ]
  },
  {
   "cell_type": "code",
   "execution_count": 15,
   "metadata": {},
   "outputs": [
    {
     "data": {
      "text/plain": [
       "Text(0, 0.5, 'Amount')"
      ]
     },
     "execution_count": 15,
     "metadata": {},
     "output_type": "execute_result"
    },
    {
     "data": {
      "image/png": "[encoded data removed]",
      "text/plain": [
       "<Figure size 1080x720 with 3 Axes>"
      ]
     },
     "metadata": {
      "needs_background": "light"
     },
     "output_type": "display_data"
    }
   ],
   "source": [
    "# Report 3. TOP3-Expenses-Analysis - graph\n",
    "fig, axes = plt.subplots(3, 1, figsize=(15,10))\n",
    "\n",
    "axes[0].grid(True)\n",
    "axes[0].bar(exptype_2013['Exp Type'],exptype_2013['Amount'], color= 'pink')\n",
    "axes[0].set_title(\"TOP3-Expenses-Analysis in 2013\")\n",
    "axes[0].set_ylabel('Amount')\n",
    "\n",
    "axes[1].grid(True)\n",
    "axes[1].bar(exptype_2014['Exp Type'],exptype_2014['Amount'], color= 'yellow')\n",
    "axes[1].set_title(\"TOP3-Expenses-Analysis in 2014\")\n",
    "axes[1].set_ylabel('Amount')\n",
    "\n",
    "axes[2].grid(True)\n",
    "axes[2].bar(exptype_2015['Exp Type'],exptype_2015['Amount'], color= 'red')\n",
    "axes[2].set_title(\"TOP3-Expenses-Analysis in 2015\")\n",
    "axes[2].set_ylabel('Amount')"
   ]
  }
 ],
 "metadata": {
  "kernelspec": {
   "display_name": "Python 3",
   "language": "python",
   "name": "python3"
  },
  "language_info": {
   "codemirror_mode": {
    "name": "ipython",
    "version": 3
   },
   "file_extension": ".py",
   "mimetype": "text/x-python",
   "name": "python",
   "nbconvert_exporter": "python",
   "pygments_lexer": "ipython3",
   "version": "3.8.5"
  }
 },
 "nbformat": 4,
 "nbformat_minor": 4
}
